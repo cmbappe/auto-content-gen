{
 "cells": [
  {
   "cell_type": "markdown",
   "metadata": {},
   "source": [
    "# 🎥 RightBiz Auto Video Generator\n",
    "This notebook turns your daily script from Google Sheets into a TikTok-ready video with:\n",
    "- gTTS voice\n",
    "- Stock video (Pexels API)\n",
    "- Captions overlay\n",
    "- Output: 1080x1920 MP4\n"
   ]
  },
  {
   "cell_type": "code",
   "execution_count": null,
   "metadata": {},
   "outputs": [],
   "source": [
    "# Install dependencies\n",
    "!pip install gTTS moviepy requests\n",
    "\n",
    "import os, requests\n",
    "from gtts import gTTS\n",
    "from moviepy.editor import *\n",
    "\n",
    "# Example: generate TTS from a script\n",
    "script = \"Starting an online business is easier with AI tools like RightBiz AI.\"\n",
    "tts = gTTS(script)\n",
    "tts.save(\"voice.mp3\")\n",
    "\n",
    "# Example: load a stock video (replace with Pexels download)\n",
    "video = VideoFileClip(\"sample.mp4\").subclip(0,10).resize((1080,1920))\n",
    "audio = AudioFileClip(\"voice.mp3\")\n",
    "\n",
    "final = video.set_audio(audio)\n",
    "final.write_videofile(\"output.mp4\", fps=24)\n"
   ]
  }
 ],
 "metadata": {
  "colab": {
   "name": "RightBiz Auto Video Generator",
   "provenance": []
  },
  "kernelspec": {
   "display_name": "Python 3",
   "language": "python",
   "name": "python3"
  },
  "language_info": {
   "name": "python"
  }
 },
 "nbformat": 4,
 "nbformat_minor": 0
}
