{
 "cells": [
  {
   "cell_type": "markdown",
   "metadata": {},
   "source": [
    "# 🎥 RightBiz Auto Video Generator\n",
    "This notebook:\n",
    "- Pulls your generated script\n",
    "- Uses gTTS for AI voice\n",
    "- Fetches stock video from Pexels\n",
    "- Crops/resizes to vertical 1080x1920\n",
    "- Adds captions\n",
    "- Exports MP4 ready for TikTok/Instagram"
   ]
  },
  {
   "cell_type": "code",
   "execution_count": null,
   "metadata": {},
   "outputs": [],
   "source": [
    "# ------------------ CONFIG ------------------\n",
    "import os, requests\n",
    "from gtts import gTTS\n",
    "from moviepy.editor import VideoFileClip, AudioFileClip, TextClip, CompositeVideoClip\n",
    "\n",
    "PEXELS_API_KEY = os.getenv('PEXELS_API_KEY') # set in Colab environment variables\n",
    "OPENAI_API_KEY = os.getenv('OPENAI_API_KEY') # set in Colab environment variables (for Whisper/transcription)\n",
    "OUTPUT_FILE = '/content/output.mp4'\n",
    "\n",
    "# Example: Replace this with code that pulls the Generated Script from your Google Sheet via API\n",
    "SCRIPT_TEXT = \"Here’s how you can launch in 7 days with AI tools…\"\n",
    "\n",
    "\n",
    "# ------------------ TTS ------------------\n",
    "print('Generating TTS...')\n",
    "tts = gTTS(SCRIPT_TEXT)\n",
    "tts.save('voice.mp3')\n",
    "\n",
    "\n",
    "# ------------------ PEXELS VIDEO ------------------\n",
    "print('Fetching stock video from Pexels...')\n",
    "headers = {\"Authorization\": PEXELS_API_KEY}\n",
    "resp = requests.get('https://api.pexels.com/videos/search?query=business&per_page=1', headers=headers)\n",
    "resp.raise_for_status()\n",
    "videos = resp.json().get('videos', [])\n",
    "if not videos:\n",
    "    raise SystemExit('No videos found from Pexels')\n",
    "video_url = videos[0]['video_files'][0]['link']\n",
    "\n",
    "with requests.get(video_url, stream=True) as r:\n",
    "    r.raise_for_status()\n",
    "    with open('background.mp4', 'wb') as f:\n",
    "        for chunk in r.iter_content(chunk_size=8192):\n",
    "            f.write(chunk)\n",
    "\n",
    "\n",
    "# ------------------ TRANSFORM + COMPOSE ------------------\n",
    "print('Composing final video...')\n",
    "video = VideoFileClip('background.mp4').subclip(0,30)\n",
    "\n",
    "# ensure vertical: center crop/resize to 1080x1920\n",
    "video = video.resize(width=1080)\n",
    "if video.h < 1920:\n",
    "    video = video.on_color(size=(1080,1920), color=(0,0,0), pos=('center','center'))\n",
    "else:\n",
    "    video = video.crop(width=1080, height=1920, x_center=video.w/2, y_center=video.h/2)\n",
    "\n",
    "audio = AudioFileClip('voice.mp3')\n",
    "video = video.set_audio(audio)\n",
    "\n",
    "# Simple caption\n",
    "caption = SCRIPT_TEXT\n",
    "caption_clip = TextClip(caption, fontsize=48, color='white', bg_color='black', size=(1000,200), method='caption')\n",
    "caption_clip = caption_clip.set_position(('center', 1700)).set_duration(video.duration)\n",
    "\n",
    "final = CompositeVideoClip([video, caption_clip])\n",
    "final.write_videofile(OUTPUT_FILE, codec='libx264', audio_codec='aac', fps=24)\n",
    "\n",
    "print('✅ Video generated ->', OUTPUT_FILE)\n"
   ]
  }
 ],
 "metadata": {
  "colab": {
   "name": "RightBiz Auto Video Generator",
   "provenance": []
  },
  "kernelspec": {
   "display_name": "Python 3",
   "language": "python",
   "name": "python3"
  },
  "language_info": {
   "name": "python"
  }
 },
 "nbformat": 4,
 "nbformat_minor": 0
}
